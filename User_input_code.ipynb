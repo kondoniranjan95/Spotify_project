{
 "cells": [
  {
   "cell_type": "markdown",
   "metadata": {},
   "source": [
    "# Spotify Project "
   ]
  },
  {
   "cell_type": "markdown",
   "metadata": {},
   "source": [
    "#### Libraries"
   ]
  },
  {
   "cell_type": "code",
   "execution_count": 4,
   "metadata": {},
   "outputs": [],
   "source": [
    "import config\n",
    "import spotipy\n",
    "import json\n",
    "from spotipy.oauth2 import SpotifyClientCredentials\n",
    "import pandas as pd\n",
    "import numpy as np\n",
    "from time import sleep\n",
    "from random import randint\n",
    "import pickle\n",
    "from sklearn.preprocessing import StandardScaler\n",
    "from sklearn.pipeline import Pipeline\n",
    "import joblib\n",
    "from IPython.display import IFrame"
   ]
  },
  {
   "cell_type": "markdown",
   "metadata": {},
   "source": [
    "#### Importing the databases \"Clustered song database\": db_clustered with 14000 songs with 8 clusters, \"top 100 songs\":hot_songs from \"https://www.billboard.com/charts/hot-100/\""
   ]
  },
  {
   "cell_type": "code",
   "execution_count": 5,
   "metadata": {},
   "outputs": [],
   "source": [
    "db_clustered= pd.read_csv(\"clustered_songs_db.csv\")\n",
    "hot_songs= pd.read_csv(\"top_hundred_songs.csv\")\n"
   ]
  },
  {
   "cell_type": "markdown",
   "metadata": {},
   "source": [
    "#### Connecting to Spotify"
   ]
  },
  {
   "cell_type": "code",
   "execution_count": 6,
   "metadata": {},
   "outputs": [],
   "source": [
    "sp = spotipy.Spotify(auth_manager=SpotifyClientCredentials(client_id=config.client_id,\n",
    "                                                           client_secret=config.client_secret))"
   ]
  },
  {
   "cell_type": "markdown",
   "metadata": {},
   "source": [
    "#### Loading the model \"kmeans\": kmeans (Clustering algorithm), \"scaling\":\"scaler\" (Scaling algorithm) as Joblib file"
   ]
  },
  {
   "cell_type": "code",
   "execution_count": 7,
   "metadata": {},
   "outputs": [],
   "source": [
    "kmeans = joblib.load('kmeans.gz')\n",
    "scaler= joblib.load('scaler.gz')\n"
   ]
  },
  {
   "cell_type": "markdown",
   "metadata": {},
   "source": [
    "#### User Functions \n",
    "###### \"search track widget\": To return the searched/user input song\n",
    "###### \"db_clustered_song_recomm(cluster)\": To recommend a random song from the \"clustered song database\": db_clustered\n",
    "###### \"input_func(input)\": To take user input and recommend a song from \"top 100 songs\": hot_songs or \"clustered song database\" : db_clustered"
   ]
  },
  {
   "cell_type": "code",
   "execution_count": 26,
   "metadata": {},
   "outputs": [],
   "source": [
    "def search_track_widget(track):\n",
    "    track= track.lower()\n",
    "    track= sp.search(q=track,limit=1,type=\"track\",market=\"GB\")\n",
    "    uri= track[\"tracks\"][\"items\"][0][\"uri\"]\n",
    "    uri_lstrip= uri.lstrip(\"spotify:track:\")\n",
    "    return IFrame(src=f\"https://open.spotify.com/embed/track/{uri_lstrip}\",\n",
    "                    width=\"320\",\n",
    "                    height=\"80\",\n",
    "                    frameborder=\"0\",\n",
    "                    allowtransparency=\"true\",\n",
    "                    allow=\"encrypted-media\",\n",
    "                )\n",
    "    "
   ]
  },
  {
   "cell_type": "code",
   "execution_count": 9,
   "metadata": {},
   "outputs": [],
   "source": [
    "def db_clustered_song_recomm(cluster):\n",
    "    result= (db_clustered[db_clustered[\"cluster\"]==cluster]).sample()\n",
    "    return result"
   ]
  },
  {
   "cell_type": "code",
   "execution_count": 10,
   "metadata": {},
   "outputs": [],
   "source": [
    "def input_func(input):\n",
    "    input= input.lower()\n",
    "    if input in list(hot_songs[\"title\"]):\n",
    "        random=(hot_songs.sample())\n",
    "        print(\"The song is in the hot list, try number\",random[\"title\"])\n",
    "        track= sp.search(q=random[\"title\"],limit=1,type=\"track\",market=\"GB\")\n",
    "        uri= track[\"tracks\"][\"items\"][0][\"uri\"]\n",
    "        uri_lstrip= uri.lstrip(\"spotify:track:\")\n",
    "        return IFrame(src=f\"https://open.spotify.com/embed/track/{uri_lstrip}\",\n",
    "                    width=\"320\",\n",
    "                    height=\"80\",\n",
    "                    frameborder=\"0\",\n",
    "                    allowtransparency=\"true\",\n",
    "                    allow=\"encrypted-media\",\n",
    "                )\n",
    "       \n",
    "    else:\n",
    "        track= sp.search(q=input,limit=1,type=\"track\",market=\"GB\")\n",
    "        audio_features= sp.audio_features(track[\"tracks\"][\"items\"][0][\"uri\"])\n",
    "        a= pd.DataFrame(audio_features)\n",
    "        a= a._get_numeric_data()\n",
    "        a= a.values.tolist()\n",
    "        a_scaled= scaler.transform(a)\n",
    "        cluster= kmeans.predict(a_scaled)\n",
    "        rec_song= db_clustered_song_recomm(cluster[0])\n",
    "        track= sp.search(q=rec_song[\"songs\"],limit=1,type=\"track\",market=\"GB\")\n",
    "        uri= track[\"tracks\"][\"items\"][0][\"uri\"]\n",
    "        uri_lstrip= uri.lstrip(\"spotify:track:\")\n",
    "        return IFrame(src=f\"https://open.spotify.com/embed/track/{uri_lstrip}\",\n",
    "                    width=\"320\",\n",
    "                    height=\"80\",\n",
    "                    frameborder=\"0\",\n",
    "                    allowtransparency=\"true\",\n",
    "                    allow=\"encrypted-media\",\n",
    "                )\n",
    "     \n",
    "    "
   ]
  },
  {
   "cell_type": "markdown",
   "metadata": {},
   "source": [
    "#### Running the \"search track widget\":search tracks, \"User input function\": input_func(input) for the user request song"
   ]
  },
  {
   "cell_type": "code",
   "execution_count": 40,
   "metadata": {},
   "outputs": [
    {
     "data": {
      "text/html": [
       "\n",
       "        <iframe\n",
       "            width=\"320\"\n",
       "            height=\"80\"\n",
       "            src=\"https://open.spotify.com/embed/track/5X1kTi7KqUrAbQBohSV68x?frameborder=0&allowtransparency=true&allow=encrypted-media\"\n",
       "            frameborder=\"0\"\n",
       "            allowfullscreen\n",
       "        ></iframe>\n",
       "        "
      ],
      "text/plain": [
       "<IPython.lib.display.IFrame at 0x2c51e212cd0>"
      ]
     },
     "execution_count": 40,
     "metadata": {},
     "output_type": "execute_result"
    }
   ],
   "source": [
    "user_input= input(\"Type a song you like!\")\n",
    "searched_track= search_track_widget(user_input)\n",
    "searched_track"
   ]
  },
  {
   "cell_type": "code",
   "execution_count": 41,
   "metadata": {},
   "outputs": [
    {
     "name": "stderr",
     "output_type": "stream",
     "text": [
      "E:\\Anaconda\\envs\\DA_Envi\\lib\\site-packages\\sklearn\\base.py:441: UserWarning: X does not have valid feature names, but StandardScaler was fitted with feature names\n",
      "  warnings.warn(\n",
      "E:\\Anaconda\\envs\\DA_Envi\\lib\\site-packages\\sklearn\\base.py:441: UserWarning: X does not have valid feature names, but KMeans was fitted with feature names\n",
      "  warnings.warn(\n"
     ]
    },
    {
     "data": {
      "text/html": [
       "\n",
       "        <iframe\n",
       "            width=\"320\"\n",
       "            height=\"80\"\n",
       "            src=\"https://open.spotify.com/embed/track/57Xjny5yNzAcsxnusKmAfA?frameborder=0&allowtransparency=true&allow=encrypted-media\"\n",
       "            frameborder=\"0\"\n",
       "            allowfullscreen\n",
       "        ></iframe>\n",
       "        "
      ],
      "text/plain": [
       "<IPython.lib.display.IFrame at 0x2c51e212d30>"
      ]
     },
     "execution_count": 41,
     "metadata": {},
     "output_type": "execute_result"
    }
   ],
   "source": [
    "ip= input_func(user_input)\n",
    "ip"
   ]
  }
 ],
 "metadata": {
  "interpreter": {
   "hash": "82e6290ce2c356cceb89c98c36079548bc3fbf6bc2b11ac043e55de0e1250e68"
  },
  "kernelspec": {
   "display_name": "Python 3.9.6 64-bit ('DA_Envi': conda)",
   "language": "python",
   "name": "python3"
  },
  "language_info": {
   "codemirror_mode": {
    "name": "ipython",
    "version": 3
   },
   "file_extension": ".py",
   "mimetype": "text/x-python",
   "name": "python",
   "nbconvert_exporter": "python",
   "pygments_lexer": "ipython3",
   "version": "3.9.6"
  },
  "orig_nbformat": 4
 },
 "nbformat": 4,
 "nbformat_minor": 2
}
