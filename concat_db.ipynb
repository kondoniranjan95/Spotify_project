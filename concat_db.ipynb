{
 "cells": [
  {
   "cell_type": "code",
   "execution_count": 13,
   "metadata": {},
   "outputs": [],
   "source": [
    "import config\n",
    "import spotipy\n",
    "import json\n",
    "from spotipy.oauth2 import SpotifyClientCredentials\n",
    "import pandas as pd\n",
    "import numpy as np\n",
    "from time import sleep\n",
    "from random import randint\n",
    "import glob"
   ]
  },
  {
   "cell_type": "code",
   "execution_count": 14,
   "metadata": {},
   "outputs": [],
   "source": [
    "file1= pd.read_csv(\"csv_1.csv\")\n",
    "file2= pd.read_csv(\"csv_2.csv\")\n",
    "file3= pd.read_csv(\"csv_3.csv\")\n",
    "file4= pd.read_csv(\"csv_4.csv\")\n",
    "file5= pd.read_csv(\"csv_5.csv\")\n",
    "file6= pd.read_csv(\"csv_6.csv\")\n",
    "file7= pd.read_csv(\"csv_7.csv\")\n",
    "file8= pd.read_csv(\"csv_8.csv\")\n",
    "song_df= pd.concat([file1,file2,file3,file4,file5,file6,file7,file8],axis=0)"
   ]
  },
  {
   "cell_type": "code",
   "execution_count": 15,
   "metadata": {},
   "outputs": [],
   "source": [
    "song_df= song_df.dropna()\n",
    "song_df= song_df.drop_duplicates()"
   ]
  },
  {
   "cell_type": "code",
   "execution_count": 16,
   "metadata": {},
   "outputs": [],
   "source": [
    "song_df.to_csv(\"songs_db.csv\",index=False)"
   ]
  }
 ],
 "metadata": {
  "interpreter": {
   "hash": "82e6290ce2c356cceb89c98c36079548bc3fbf6bc2b11ac043e55de0e1250e68"
  },
  "kernelspec": {
   "display_name": "Python 3.9.6 64-bit ('DA_Envi': conda)",
   "language": "python",
   "name": "python3"
  },
  "language_info": {
   "codemirror_mode": {
    "name": "ipython",
    "version": 3
   },
   "file_extension": ".py",
   "mimetype": "text/x-python",
   "name": "python",
   "nbconvert_exporter": "python",
   "pygments_lexer": "ipython3",
   "version": "3.9.6"
  },
  "orig_nbformat": 4
 },
 "nbformat": 4,
 "nbformat_minor": 2
}
